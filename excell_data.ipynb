{
  "nbformat": 4,
  "nbformat_minor": 0,
  "metadata": {
    "colab": {
      "provenance": [],
      "authorship_tag": "ABX9TyOIAAv1Mzi21DzG4pDg3JkT",
      "include_colab_link": true
    },
    "kernelspec": {
      "name": "python3",
      "display_name": "Python 3"
    },
    "language_info": {
      "name": "python"
    }
  },
  "cells": [
    {
      "cell_type": "markdown",
      "metadata": {
        "id": "view-in-github",
        "colab_type": "text"
      },
      "source": [
        "<a href=\"https://colab.research.google.com/github/1nf1n1tee/Shelf_1_junk/blob/main/excell_data.ipynb\" target=\"_parent\"><img src=\"https://colab.research.google.com/assets/colab-badge.svg\" alt=\"Open In Colab\"/></a>"
      ]
    },
    {
      "cell_type": "code",
      "source": [
        "import openpyxl as xl\n",
        "from openpyxl.chart import BarChart, Reference\n",
        "\n",
        "wb = xl.load_workbook('transactions.xlsx')\n",
        "sheet = wb['Sheet1']\n",
        "\n",
        "for row in range(2,sheet.max_row+1):\n",
        "    cell = sheet.cell(row,3)\n",
        "    corrected_value = cell.value*0.9\n",
        "    corrected_value_cell = sheet.cell(row,4)\n",
        "    corrected_value_cell.value = corrected_value\n",
        "\n",
        "values = Reference(sheet, min_row=2,max_row=sheet.max_row,min_col=4,max_col=4)\n",
        "chart = BarChart()\n",
        "chart.add_data(values)\n",
        "sheet.add_chart(chart,'e2')\n",
        "\n",
        "wb.save('transactions2.xlsx')\n",
        "\n"
      ],
      "metadata": {
        "id": "AlHlkfXf64qf"
      },
      "execution_count": null,
      "outputs": []
    }
  ]
}