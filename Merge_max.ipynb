{
  "nbformat": 4,
  "nbformat_minor": 0,
  "metadata": {
    "colab": {
      "provenance": [],
      "authorship_tag": "ABX9TyP7OqoTeV4u3MSBZoZGUjVP",
      "include_colab_link": true
    },
    "kernelspec": {
      "name": "python3",
      "display_name": "Python 3"
    },
    "language_info": {
      "name": "python"
    }
  },
  "cells": [
    {
      "cell_type": "markdown",
      "metadata": {
        "id": "view-in-github",
        "colab_type": "text"
      },
      "source": [
        "<a href=\"https://colab.research.google.com/github/1nf1n1tee/Shelf_1_junk/blob/main/Merge_max.ipynb\" target=\"_parent\"><img src=\"https://colab.research.google.com/assets/colab-badge.svg\" alt=\"Open In Colab\"/></a>"
      ]
    },
    {
      "cell_type": "code",
      "execution_count": null,
      "metadata": {
        "id": "OGIUufftpTX6"
      },
      "outputs": [],
      "source": [
        "def merge_max_div(arr):\n",
        "  if len(arr) == 1:\n",
        "    return arr\n",
        "\n",
        "  mid = len(arr)//2\n",
        "  left = merge_max_div(arr[:mid])\n",
        "  right = merge_max_div(arr[mid:])\n",
        "  return merge_max_con(left,right)\n",
        "\n",
        "def merge_max_con(left,right):\n",
        "  if left > right:\n",
        "    return left\n",
        "  return right"
      ]
    },
    {
      "cell_type": "code",
      "source": [
        "arr = [60,5,6,6,10,11]\n",
        "print(merge_max_div(arr))"
      ],
      "metadata": {
        "id": "-yWR9UdO6gaT",
        "colab": {
          "base_uri": "https://localhost:8080/"
        },
        "outputId": "dfd65f4e-b7ae-471c-95c6-e850897cd323"
      },
      "execution_count": null,
      "outputs": [
        {
          "output_type": "stream",
          "name": "stdout",
          "text": [
            "[60]\n"
          ]
        }
      ]
    }
  ]
}