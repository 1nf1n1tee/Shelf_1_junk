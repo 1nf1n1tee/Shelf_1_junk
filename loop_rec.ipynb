{
  "nbformat": 4,
  "nbformat_minor": 0,
  "metadata": {
    "colab": {
      "provenance": [],
      "authorship_tag": "ABX9TyMWBD5sIKCdS5p+p3O69L/R",
      "include_colab_link": true
    },
    "kernelspec": {
      "name": "python3",
      "display_name": "Python 3"
    },
    "language_info": {
      "name": "python"
    }
  },
  "cells": [
    {
      "cell_type": "markdown",
      "metadata": {
        "id": "view-in-github",
        "colab_type": "text"
      },
      "source": [
        "<a href=\"https://colab.research.google.com/github/1nf1n1tee/Shelf_1_junk/blob/main/loop_rec.ipynb\" target=\"_parent\"><img src=\"https://colab.research.google.com/assets/colab-badge.svg\" alt=\"Open In Colab\"/></a>"
      ]
    },
    {
      "cell_type": "code",
      "execution_count": 3,
      "metadata": {
        "colab": {
          "base_uri": "https://localhost:8080/"
        },
        "id": "OGIUufftpTX6",
        "outputId": "0816ccfa-43ac-464c-9ab8-47f44f386a62"
      },
      "outputs": [
        {
          "output_type": "stream",
          "name": "stdout",
          "text": [
            "510\n"
          ]
        }
      ],
      "source": [
        "def loop(arr,i=0,m = 0):\n",
        "    if i == len(arr):\n",
        "        return arr[m]\n",
        "    else:\n",
        "        if arr[i] > arr[m]:\n",
        "            m = i\n",
        "        return loop(arr,i+1,m)\n",
        "\n",
        "array = [510,20,30,40]\n",
        "big = loop(array)\n",
        "print(big)"
      ]
    }
  ]
}